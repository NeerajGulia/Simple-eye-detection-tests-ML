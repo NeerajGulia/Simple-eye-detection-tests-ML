{
  "nbformat": 4,
  "nbformat_minor": 0,
  "metadata": {
    "colab": {
      "name": "Hello, Colaboratory",
      "version": "0.3.2",
      "provenance": [],
      "collapsed_sections": [],
      "include_colab_link": true
    },
    "kernelspec": {
      "display_name": "Python 3",
      "name": "python3"
    }
  },
  "cells": [
    {
      "cell_type": "markdown",
      "metadata": {
        "id": "view-in-github",
        "colab_type": "text"
      },
      "source": [
        "[View in Colaboratory](https://colab.research.google.com/github/UjjwalSaxena/Simple-eye-detection-tests-ML/blob/master/Hello,_Colaboratory.ipynb)"
      ]
    },
    {
      "metadata": {
        "id": "KKppPQ-lEhZL",
        "colab_type": "code",
        "colab": {
          "base_uri": "https://localhost:8080/",
          "height": 34
        },
        "outputId": "1ad450c0-3f64-4309-efed-51293169c0a9"
      },
      "cell_type": "code",
      "source": [
        "# !wget https://youtu.be/z008GkZ_cgA?t=46\n",
        "# !rm 'index.html'\n",
        "# !rm \"images\"\n",
        "# !ls -ltr \"images_test_25_t0_40\"\n",
        "# !pip install moviepy\n",
        "# !pip install Youtube-dl\n",
        "# !youtube-dl \"https://youtu.be/z008GkZ_cgA\"\n",
        "# !mv \"Prescribed Burning the 'Switchback' Unit, in Orleans California.-z008GkZ_cgA.mp4\" \"test_video1.mp4\"\n",
        "# import matplotlib.pyplot as plt\n",
        "# %matplotlib inline\n",
        "# img= plt.imread(\"images/image_1.jpg\")\n",
        "# plt.imshow(img)\n",
        "\n",
        "\n",
        "import glob\n",
        "\n",
        "fire_images= glob.glob('images_test_25_t0_40/*.jpg')\n",
        "print(len(fire_images))"
      ],
      "execution_count": 49,
      "outputs": [
        {
          "output_type": "stream",
          "text": [
            "226\n"
          ],
          "name": "stdout"
        }
      ]
    },
    {
      "metadata": {
        "id": "2upiWRy8GkMW",
        "colab_type": "code",
        "colab": {}
      },
      "cell_type": "code",
      "source": [
        "\n",
        "import cv2\n",
        "import time\n",
        "\n",
        "def Test_pipeline(img):\n",
        "\n",
        "  cv2.imwrite(\"images_test_25_t0_40/image_\"+str(time.time())+\".jpg\",img)\n",
        "  return img\n",
        "  "
      ],
      "execution_count": 0,
      "outputs": []
    },
    {
      "metadata": {
        "id": "RZL2tRYuFO3D",
        "colab_type": "code",
        "colab": {
          "base_uri": "https://localhost:8080/",
          "height": 153
        },
        "outputId": "01a6746d-2bb7-4b97-a41b-d41762923c0b"
      },
      "cell_type": "code",
      "source": [
        "import moviepy\n",
        "from moviepy.editor import VideoFileClip\n",
        "\n",
        "video_output1 = 'project_video_output.mp4'\n",
        "video_input1 = VideoFileClip('test_video1.mp4').subclip(25,40)\n",
        "processed_video = video_input1.fl_image(Test_pipeline)\n",
        "%time processed_video.write_videofile(video_output1, audio=False)\n",
        "video_input1.reader.close()\n",
        "video_input1.audio.reader.close_proc()"
      ],
      "execution_count": 45,
      "outputs": [
        {
          "output_type": "stream",
          "text": [
            "[MoviePy] >>>> Building video project_video_output.mp4\n",
            "[MoviePy] Writing video project_video_output.mp4\n"
          ],
          "name": "stdout"
        },
        {
          "output_type": "stream",
          "text": [
            "100%|█████████▉| 225/226 [00:18<00:00, 12.39it/s]\n"
          ],
          "name": "stderr"
        },
        {
          "output_type": "stream",
          "text": [
            "[MoviePy] Done.\n",
            "[MoviePy] >>>> Video ready: project_video_output.mp4 \n",
            "\n",
            "CPU times: user 3.96 s, sys: 759 ms, total: 4.72 s\n",
            "Wall time: 20.9 s\n"
          ],
          "name": "stdout"
        }
      ]
    }
  ]
}