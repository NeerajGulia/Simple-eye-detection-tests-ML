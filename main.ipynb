{
  "nbformat": 4,
  "nbformat_minor": 0,
  "metadata": {
    "colab": {
      "name": "main.ipynb",
      "version": "0.3.2",
      "provenance": [],
      "collapsed_sections": [],
      "include_colab_link": true
    },
    "kernelspec": {
      "name": "python3",
      "display_name": "Python 3"
    }
  },
  "cells": [
    {
      "cell_type": "markdown",
      "metadata": {
        "id": "view-in-github",
        "colab_type": "text"
      },
      "source": [
        "[View in Colaboratory](https://colab.research.google.com/github/UjjwalSaxena/Simple-eye-detection-tests-ML/blob/master/main.ipynb)"
      ]
    },
    {
      "metadata": {
        "id": "llWpFKGBYhjU",
        "colab_type": "code",
        "colab": {
          "base_uri": "https://localhost:8080/",
          "height": 237
        },
        "outputId": "7632fcf6-097c-4e31-c0b1-3139b45f1e38"
      },
      "cell_type": "code",
      "source": [
        "# !wget https://github.com/UjjwalSaxena/Simple-eye-detection-tests-ML/blob/master/dataset_B_Eye_Images.zip \n",
        "# ! git clone https://github.com/UjjwalSaxena/Simple-eye-detection-tests-ML\n",
        "! wget https://upload.wikimedia.org/wikipedia/commons/thumb/b/b6/Image_created_with_a_mobile_phone.png/1200px-Image_created_with_a_mobile_phone.png"
      ],
      "execution_count": 89,
      "outputs": [
        {
          "output_type": "stream",
          "text": [
            "--2018-08-03 06:10:48--  https://upload.wikimedia.org/wikipedia/commons/thumb/b/b6/Image_created_with_a_mobile_phone.png/1200px-Image_created_with_a_mobile_phone.png\r\n",
            "Resolving upload.wikimedia.org (upload.wikimedia.org)... 198.35.26.112, 2620:0:861:ed1a::2:b\n",
            "Connecting to upload.wikimedia.org (upload.wikimedia.org)|198.35.26.112|:443... connected.\n",
            "HTTP request sent, awaiting response... 200 OK\n",
            "Length: 1594447 (1.5M) [image/png]\n",
            "Saving to: ‘1200px-Image_created_with_a_mobile_phone.png’\n",
            "\n",
            "1200px-Image_create 100%[===================>]   1.52M  3.14MB/s    in 0.5s    \n",
            "\n",
            "2018-08-03 06:10:49 (3.14 MB/s) - ‘1200px-Image_created_with_a_mobile_phone.png’ saved [1594447/1594447]\n",
            "\n"
          ],
          "name": "stdout"
        }
      ]
    },
    {
      "metadata": {
        "id": "7EMCq6gBb9Hf",
        "colab_type": "code",
        "colab": {}
      },
      "cell_type": "code",
      "source": [
        "# !pip install patool\n",
        "# !pip install pyunpack\n",
        "# !mkdir \"EyeImages\"\n",
        "# !ls -lrt Simple-eye-detection-tests-ML/dataset_B_Eye_Images.zip\n",
        "\n",
        "# !rm \"dataset_B_Eye_Images.zip.1\""
      ],
      "execution_count": 0,
      "outputs": []
    },
    {
      "metadata": {
        "id": "M_BaOqxZbd3j",
        "colab_type": "code",
        "colab": {}
      },
      "cell_type": "code",
      "source": [
        "# from pyunpack import Archive\n",
        "# Archive('dataset_B_Eye_Images.zip').extractall('EyeImages')\n",
        "# import patoolib\n",
        "# patoolib.extract_archive(\"dataset_B_Eye_Images.rar\", outdir=\"EyeImages\")\n",
        "# !pip install unrar\n",
        "# from unrar import rarfile\n",
        "# rar = rarfile.RarFile('dataset_B_Eye_Images.rar')\n",
        "# rar.namelist()"
      ],
      "execution_count": 0,
      "outputs": []
    },
    {
      "metadata": {
        "id": "hXhKY5j3jdTY",
        "colab_type": "code",
        "colab": {}
      },
      "cell_type": "code",
      "source": [
        "\n",
        "def upload_files():\n",
        "  from google.colab import files\n",
        "  uploaded = files.upload()\n",
        "  for k, v in uploaded.items():\n",
        "    open(k, 'wb').write(v)\n",
        "  return list(uploaded.keys())\n",
        "\n",
        "upload_files()"
      ],
      "execution_count": 0,
      "outputs": []
    },
    {
      "metadata": {
        "id": "hBOs2m5PkFs2",
        "colab_type": "code",
        "colab": {
          "base_uri": "https://localhost:8080/",
          "height": 108
        },
        "outputId": "b17b61dd-ae26-46a6-a498-e92d25c9999a"
      },
      "cell_type": "code",
      "source": [
        "# Archive('dataset_B_Eye_Images.zip').extractall('EyeImages')\n",
        "# import zipfile\n",
        "# zip_ref = zipfile.ZipFile('Simple-eye-detection-tests-ML/dataset_B_Eye_Images.zip', 'r')\n",
        "# zip_ref.extractall('EyeImages')\n",
        "# zip_ref.close()\n",
        "# !ls -lrt \n",
        "!ls -lrt \"EyeImages/dataset_B_Eye_Images\""
      ],
      "execution_count": 53,
      "outputs": [
        {
          "output_type": "stream",
          "text": [
            "total 264\r\n",
            "drwxr-xr-x 2 root root 69632 Aug  3 05:30 closedLeftEyes\r\n",
            "drwxr-xr-x 2 root root 69632 Aug  3 05:30 closedRightEyes\r\n",
            "drwxr-xr-x 2 root root 65536 Aug  3 05:30 openLeftEyes\r\n",
            "drwxr-xr-x 2 root root 65536 Aug  3 05:30 openRightEyes\r\n"
          ],
          "name": "stdout"
        }
      ]
    },
    {
      "metadata": {
        "id": "SJRRQDiplhVy",
        "colab_type": "code",
        "colab": {}
      },
      "cell_type": "code",
      "source": [
        "import matplotlib.pyplot as plt\n",
        "import cv2 \n",
        "import glob\n",
        "import numpy as np"
      ],
      "execution_count": 0,
      "outputs": []
    },
    {
      "metadata": {
        "id": "_8HN75nklmPJ",
        "colab_type": "code",
        "colab": {}
      },
      "cell_type": "code",
      "source": [
        "\n",
        "def loadImages(path):\n",
        "  return plt.imread(path)\n",
        "\n",
        "def getImagesFromFolder(foldername):\n",
        "  imagePaths = [image_path for image_path in glob.glob(foldername+'/*.jpg')]\n",
        "#   images= [loadImages(image_path) for image_path in imagePaths]\n",
        "  return imagePaths"
      ],
      "execution_count": 0,
      "outputs": []
    },
    {
      "metadata": {
        "id": "i_PC7JEBkn-0",
        "colab_type": "code",
        "colab": {}
      },
      "cell_type": "code",
      "source": [
        "# cle= getImagesFromFolder(\"EyeImages/dataset_B_Eye_Images/closedLeftEyes\")\n",
        "# cre= getImagesFromFolder(\"EyeImages/dataset_B_Eye_Images/closedRightEyes\")\n",
        "# ole= getImagesFromFolder(\"EyeImages/dataset_B_Eye_Images/openLeftEyes\")\n",
        "# ore= getImagesFromFolder(\"EyeImages/dataset_B_Eye_Images/openRightEyes\")\n",
        "\n"
      ],
      "execution_count": 0,
      "outputs": []
    },
    {
      "metadata": {
        "id": "KM1rP19jrOic",
        "colab_type": "code",
        "colab": {}
      },
      "cell_type": "code",
      "source": [
        "from skimage.feature import hog\n",
        "def get_hog_features(img, orient, pix_per_cell, cell_per_block, vis=False, feature_vec=True):\n",
        "    # Call with two outputs if vis==True\n",
        "  if vis == True:\n",
        "    features, hog_image = hog(img, orientations=orient, pixels_per_cell=(pix_per_cell, pix_per_cell),\n",
        "                              cells_per_block=(cell_per_block, cell_per_block),transform_sqrt=False, \n",
        "                              visualise=vis, feature_vector=feature_vec)\n",
        "    return features, hog_image\n",
        "  # Otherwise call with one output\n",
        "  else:     \n",
        "    \n",
        "    features = hog(img, orientations=orient, pixels_per_cell=(pix_per_cell, pix_per_cell),\n",
        "                   cells_per_block=(cell_per_block, cell_per_block),transform_sqrt=False, \n",
        "                   visualise=vis, feature_vector=feature_vec)\n",
        "    \n",
        "    return features\n",
        "      \n",
        "      \n",
        "def get_histogram_features(img):\n",
        "  c1= np.histogram(img, bins=8, range=(0,256))\n",
        "  return c1\n",
        "\n",
        "\n",
        "\n",
        "def get_image_features(img, color_space='RGB', size=(24, 24)):      \n",
        "  features = cv2.resize(img, size).ravel() \n",
        "  return features\n",
        "  \n",
        "def get_features(img):\n",
        "  x = np.array(get_hog_features(img, 7, 6, 1))\n",
        "  y = get_image_features(img)\n",
        "  return np.concatenate((x,y))"
      ],
      "execution_count": 0,
      "outputs": []
    },
    {
      "metadata": {
        "id": "FpbSi4kWoHwW",
        "colab_type": "code",
        "colab": {
          "base_uri": "https://localhost:8080/",
          "height": 74
        },
        "outputId": "a679ae5d-7b22-4655-dea9-a4d5b2b5f728"
      },
      "cell_type": "code",
      "source": [
        "features_open=[]\n",
        "features_closed=[]\n",
        "\n",
        "eye_closed= cle+ cre\n",
        "eye_open= ole+ ore\n",
        "# print(len(eye_closed))\n",
        "\n",
        "\n",
        "for eye_path in eye_closed:\n",
        "  eye= loadImages(eye_path.strip())\n",
        "  features_closed.append(get_features(eye))\n",
        "  \n",
        "for eye_path in eye_open:\n",
        "  eye= loadImages(eye_path.strip())\n",
        "  features_open.append(get_features(eye))\n"
      ],
      "execution_count": 177,
      "outputs": [
        {
          "output_type": "stream",
          "text": [
            "/usr/local/lib/python3.6/dist-packages/skimage/feature/_hog.py:119: skimage_deprecation: Default value of `block_norm`==`L1` is deprecated and will be changed to `L2-Hys` in v0.15\n",
            "  'be changed to `L2-Hys` in v0.15', skimage_deprecation)\n"
          ],
          "name": "stderr"
        }
      ]
    },
    {
      "metadata": {
        "id": "15AJ8shu3f2s",
        "colab_type": "code",
        "colab": {}
      },
      "cell_type": "code",
      "source": [
        "X = np.vstack((features_open, features_closed)).astype(np.float64)\n",
        "y = np.hstack((np.ones(len(features_open)), np.zeros(len(features_closed))))\n",
        "\n"
      ],
      "execution_count": 0,
      "outputs": []
    },
    {
      "metadata": {
        "id": "zxfBXtXZ7tWq",
        "colab_type": "code",
        "colab": {
          "base_uri": "https://localhost:8080/",
          "height": 35
        },
        "outputId": "6d42293c-589c-48ad-b8ce-a0a6e61d79f3"
      },
      "cell_type": "code",
      "source": [
        "\n",
        "from sklearn.model_selection import train_test_split\n",
        "from sklearn.preprocessing import StandardScaler\n",
        "rand_state = np.random.randint(0, 100)\n",
        "X_train, X_test, y_train, y_test = train_test_split(\n",
        "    X, y, test_size=0.2, random_state=rand_state)\n",
        "X_scaler = StandardScaler().fit(X_train)\n",
        "X_train = X_scaler.transform(X_train)\n",
        "X_test = X_scaler.transform(X_test)\n",
        "\n",
        "\n",
        "print('Feature vector length:', len(X_train[0]))"
      ],
      "execution_count": 179,
      "outputs": [
        {
          "output_type": "stream",
          "text": [
            "Feature vector length: 688\n"
          ],
          "name": "stdout"
        }
      ]
    },
    {
      "metadata": {
        "id": "EqmMFeuDf4K1",
        "colab_type": "code",
        "colab": {
          "base_uri": "https://localhost:8080/",
          "height": 90
        },
        "outputId": "08dd3c6e-2346-4395-9693-65f733bd737d"
      },
      "cell_type": "code",
      "source": [
        "%%time\n",
        "from sklearn.svm import SVC\n",
        "\n",
        "print('training started') \n",
        "clf = SVC()\n",
        "clf.fit(X_train, y_train)\n",
        "print('Test Accuracy of SVC = ', round(clf.score(X_test, y_test), 4))"
      ],
      "execution_count": 180,
      "outputs": [
        {
          "output_type": "stream",
          "text": [
            "training started\n",
            "Test Accuracy of SVC =  0.9557\n",
            "CPU times: user 7.55 s, sys: 4.85 ms, total: 7.55 s\n",
            "Wall time: 7.55 s\n"
          ],
          "name": "stdout"
        }
      ]
    },
    {
      "metadata": {
        "id": "u1zJyTwoijXH",
        "colab_type": "code",
        "colab": {}
      },
      "cell_type": "code",
      "source": [
        "def predict(img_portion):\n",
        "  features= get_features(img_portion)\n",
        "  features= X_scaler.transform(np.array(features).reshape(1, -1))\n",
        "  prediction= clf.predict(features)\n",
        "  return prediction"
      ],
      "execution_count": 0,
      "outputs": []
    },
    {
      "metadata": {
        "id": "jQ9QtOR9kyXd",
        "colab_type": "code",
        "colab": {
          "base_uri": "https://localhost:8080/",
          "height": 110
        },
        "outputId": "d43c931d-11e4-460a-891b-959eb4feb011"
      },
      "cell_type": "code",
      "source": [
        "All_Windows=[]\n",
        "\n",
        "def generate_all_windows(img, size=24, overlap=0.3):\n",
        "  height= img.shape[0]\n",
        "  width= img.shape[1]\n",
        "  \n",
        "  for i in range(size,height-size,int(size*(1-overlap))):\n",
        "    for j in range(size,width-size,int(size*(1-overlap))):\n",
        "      location=(i,j)\n",
        "      All_Windows.append((i,i+size, j, j+size, location))\n",
        "      \n",
        "generate_all_windows(loadImages(\"1200px-Image_created_with_a_mobile_phone.png\"),24, 0.2)\n",
        "# print(len(All_Windows))\n",
        "\n",
        "def generate_windows_around_prev(img, location, size=24, overlap=0.3, area=50):\n",
        "  height= img.shape[0]\n",
        "  width= img.shape[1]\n",
        "  current_windows=[]\n",
        "  for i in range(location[0]-area,location[0]+area,int(size*(1-overlap))):\n",
        "    for j in range(location[1]-area,location[1]+area,int(size*(1-overlap))):\n",
        "      location=(i,j)\n",
        "      current_windows.append((i,i+size, j, j+size, location))\n",
        "  return current_windows\n",
        "\n",
        "\n",
        "centroid=()\n",
        "distracted=0\n",
        "def Detect(img):\n",
        "  img= cv2.cvtColor(img, cv2.COLOR_RGB2GRAY)\n",
        "  size=24\n",
        "\n",
        "  if(centroid==())\n",
        "    generate_all_windows(img,24, 0.2)\n",
        "    for window in All_Windows:\n",
        "      location= window[4]\n",
        "      p= predict(img[location[0]:location[0]+size, location[1]:location[1]+size])\n",
        "      if p==1:\n",
        "        distracted= max(distracted-1,0)\n",
        "        centroid=location\n",
        "        break\n",
        "      elif p==0:\n",
        "        distracted+=1\n",
        "        centroid=location\n",
        "        break\n",
        "      if distracted>5:\n",
        "        print(\"distracted\")\n",
        "  else:\n",
        "    anchor=False\n",
        "    current_windows= generate_windows_around_prev(img, centroid, overlap=0.2)\n",
        "    for window in current_windows:\n",
        "      location= window[4]\n",
        "      p= predict(img[location[0]:location[0]+size, location[1]:location[1]+size])\n",
        "      if p==1:\n",
        "        distracted= max(distracted-1,0)\n",
        "        centroid=location\n",
        "        break\n",
        "      elif p==0:\n",
        "        distracted+=1\n",
        "        centroid=location\n",
        "        break\n",
        "      if distracted>5:\n",
        "        print(\"distracted\")\n",
        "    if !anchor:\n",
        "      centroid=()\n",
        "      \n",
        "  "
      ],
      "execution_count": 211,
      "outputs": [
        {
          "output_type": "stream",
          "text": [
            "25\n"
          ],
          "name": "stdout"
        },
        {
          "output_type": "stream",
          "text": [
            "/usr/local/lib/python3.6/dist-packages/skimage/feature/_hog.py:119: skimage_deprecation: Default value of `block_norm`==`L1` is deprecated and will be changed to `L2-Hys` in v0.15\n",
            "  'be changed to `L2-Hys` in v0.15', skimage_deprecation)\n"
          ],
          "name": "stderr"
        },
        {
          "output_type": "stream",
          "text": [
            "5.579438209533691\n"
          ],
          "name": "stdout"
        }
      ]
    },
    {
      "metadata": {
        "id": "M_UKXg3spCHs",
        "colab_type": "code",
        "colab": {}
      },
      "cell_type": "code",
      "source": [
        ""
      ],
      "execution_count": 0,
      "outputs": []
    }
  ]
}